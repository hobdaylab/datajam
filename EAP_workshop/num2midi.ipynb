{
  "nbformat": 4,
  "nbformat_minor": 0,
  "metadata": {
    "colab": {
      "provenance": []
    },
    "kernelspec": {
      "name": "python3",
      "display_name": "Python 3"
    },
    "language_info": {
      "name": "python"
    },
    "widgets": {
      "application/vnd.jupyter.widget-state+json": {
        "75b84b2f67fe45f1a54823c3663a480f": {
          "model_module": "@jupyter-widgets/controls",
          "model_name": "VBoxModel",
          "model_module_version": "1.5.0",
          "state": {
            "_dom_classes": [],
            "_model_module": "@jupyter-widgets/controls",
            "_model_module_version": "1.5.0",
            "_model_name": "VBoxModel",
            "_view_count": null,
            "_view_module": "@jupyter-widgets/controls",
            "_view_module_version": "1.5.0",
            "_view_name": "VBoxView",
            "box_style": "",
            "children": [
              "IPY_MODEL_4c79651d8dbe4229badda65ef153a11e",
              "IPY_MODEL_99a173d5bb834982a72a826d0033c9fd"
            ],
            "layout": "IPY_MODEL_474ad7562dc44a448e79716b7e06254f"
          }
        },
        "4c79651d8dbe4229badda65ef153a11e": {
          "model_module": "@jupyter-widgets/controls",
          "model_name": "LabelModel",
          "model_module_version": "1.5.0",
          "state": {
            "_dom_classes": [],
            "_model_module": "@jupyter-widgets/controls",
            "_model_module_version": "1.5.0",
            "_model_name": "LabelModel",
            "_view_count": null,
            "_view_module": "@jupyter-widgets/controls",
            "_view_module_version": "1.5.0",
            "_view_name": "LabelView",
            "description": "",
            "description_tooltip": null,
            "layout": "IPY_MODEL_5dc8aea0369e41aa971d846a0a05e7ee",
            "placeholder": "​",
            "style": "IPY_MODEL_8f0717dd07264751a07332fc7148002a",
            "value": "What type of scale do you want to map to?"
          }
        },
        "99a173d5bb834982a72a826d0033c9fd": {
          "model_module": "@jupyter-widgets/controls",
          "model_name": "DropdownModel",
          "model_module_version": "1.5.0",
          "state": {
            "_dom_classes": [],
            "_model_module": "@jupyter-widgets/controls",
            "_model_module_version": "1.5.0",
            "_model_name": "DropdownModel",
            "_options_labels": [
              "major",
              "minor-harmonic",
              "minor-natural"
            ],
            "_view_count": null,
            "_view_module": "@jupyter-widgets/controls",
            "_view_module_version": "1.5.0",
            "_view_name": "DropdownView",
            "description": "",
            "description_tooltip": null,
            "disabled": false,
            "index": 0,
            "layout": "IPY_MODEL_e32a979e44084900bf095ac8e82cffe5",
            "style": "IPY_MODEL_e27f2222b3934d05b6f181e036970d4a"
          }
        },
        "474ad7562dc44a448e79716b7e06254f": {
          "model_module": "@jupyter-widgets/base",
          "model_name": "LayoutModel",
          "model_module_version": "1.2.0",
          "state": {
            "_model_module": "@jupyter-widgets/base",
            "_model_module_version": "1.2.0",
            "_model_name": "LayoutModel",
            "_view_count": null,
            "_view_module": "@jupyter-widgets/base",
            "_view_module_version": "1.2.0",
            "_view_name": "LayoutView",
            "align_content": null,
            "align_items": null,
            "align_self": null,
            "border": null,
            "bottom": null,
            "display": null,
            "flex": null,
            "flex_flow": null,
            "grid_area": null,
            "grid_auto_columns": null,
            "grid_auto_flow": null,
            "grid_auto_rows": null,
            "grid_column": null,
            "grid_gap": null,
            "grid_row": null,
            "grid_template_areas": null,
            "grid_template_columns": null,
            "grid_template_rows": null,
            "height": null,
            "justify_content": null,
            "justify_items": null,
            "left": null,
            "margin": null,
            "max_height": null,
            "max_width": null,
            "min_height": null,
            "min_width": null,
            "object_fit": null,
            "object_position": null,
            "order": null,
            "overflow": null,
            "overflow_x": null,
            "overflow_y": null,
            "padding": null,
            "right": null,
            "top": null,
            "visibility": null,
            "width": null
          }
        },
        "5dc8aea0369e41aa971d846a0a05e7ee": {
          "model_module": "@jupyter-widgets/base",
          "model_name": "LayoutModel",
          "model_module_version": "1.2.0",
          "state": {
            "_model_module": "@jupyter-widgets/base",
            "_model_module_version": "1.2.0",
            "_model_name": "LayoutModel",
            "_view_count": null,
            "_view_module": "@jupyter-widgets/base",
            "_view_module_version": "1.2.0",
            "_view_name": "LayoutView",
            "align_content": null,
            "align_items": null,
            "align_self": null,
            "border": null,
            "bottom": null,
            "display": null,
            "flex": null,
            "flex_flow": null,
            "grid_area": null,
            "grid_auto_columns": null,
            "grid_auto_flow": null,
            "grid_auto_rows": null,
            "grid_column": null,
            "grid_gap": null,
            "grid_row": null,
            "grid_template_areas": null,
            "grid_template_columns": null,
            "grid_template_rows": null,
            "height": null,
            "justify_content": null,
            "justify_items": null,
            "left": null,
            "margin": null,
            "max_height": null,
            "max_width": null,
            "min_height": null,
            "min_width": null,
            "object_fit": null,
            "object_position": null,
            "order": null,
            "overflow": null,
            "overflow_x": null,
            "overflow_y": null,
            "padding": null,
            "right": null,
            "top": null,
            "visibility": null,
            "width": null
          }
        },
        "8f0717dd07264751a07332fc7148002a": {
          "model_module": "@jupyter-widgets/controls",
          "model_name": "DescriptionStyleModel",
          "model_module_version": "1.5.0",
          "state": {
            "_model_module": "@jupyter-widgets/controls",
            "_model_module_version": "1.5.0",
            "_model_name": "DescriptionStyleModel",
            "_view_count": null,
            "_view_module": "@jupyter-widgets/base",
            "_view_module_version": "1.2.0",
            "_view_name": "StyleView",
            "description_width": ""
          }
        },
        "e32a979e44084900bf095ac8e82cffe5": {
          "model_module": "@jupyter-widgets/base",
          "model_name": "LayoutModel",
          "model_module_version": "1.2.0",
          "state": {
            "_model_module": "@jupyter-widgets/base",
            "_model_module_version": "1.2.0",
            "_model_name": "LayoutModel",
            "_view_count": null,
            "_view_module": "@jupyter-widgets/base",
            "_view_module_version": "1.2.0",
            "_view_name": "LayoutView",
            "align_content": null,
            "align_items": null,
            "align_self": null,
            "border": "2px solid lightblue",
            "bottom": null,
            "display": null,
            "flex": null,
            "flex_flow": null,
            "grid_area": null,
            "grid_auto_columns": null,
            "grid_auto_flow": null,
            "grid_auto_rows": null,
            "grid_column": null,
            "grid_gap": null,
            "grid_row": null,
            "grid_template_areas": null,
            "grid_template_columns": null,
            "grid_template_rows": null,
            "height": null,
            "justify_content": null,
            "justify_items": null,
            "left": null,
            "margin": null,
            "max_height": null,
            "max_width": null,
            "min_height": null,
            "min_width": null,
            "object_fit": null,
            "object_position": null,
            "order": null,
            "overflow": null,
            "overflow_x": null,
            "overflow_y": null,
            "padding": null,
            "right": null,
            "top": null,
            "visibility": null,
            "width": "300px"
          }
        },
        "e27f2222b3934d05b6f181e036970d4a": {
          "model_module": "@jupyter-widgets/controls",
          "model_name": "DescriptionStyleModel",
          "model_module_version": "1.5.0",
          "state": {
            "_model_module": "@jupyter-widgets/controls",
            "_model_module_version": "1.5.0",
            "_model_name": "DescriptionStyleModel",
            "_view_count": null,
            "_view_module": "@jupyter-widgets/base",
            "_view_module_version": "1.2.0",
            "_view_name": "StyleView",
            "description_width": ""
          }
        },
        "ba3f6c9b02aa43038cf54096bf33191b": {
          "model_module": "@jupyter-widgets/controls",
          "model_name": "VBoxModel",
          "model_module_version": "1.5.0",
          "state": {
            "_dom_classes": [],
            "_model_module": "@jupyter-widgets/controls",
            "_model_module_version": "1.5.0",
            "_model_name": "VBoxModel",
            "_view_count": null,
            "_view_module": "@jupyter-widgets/controls",
            "_view_module_version": "1.5.0",
            "_view_name": "VBoxView",
            "box_style": "",
            "children": [
              "IPY_MODEL_64a220b132074282ba4c6bd54a636416",
              "IPY_MODEL_b70798245d774664b75c2dc1e4fdc9c6"
            ],
            "layout": "IPY_MODEL_a99264f1112d45bd9dc5b3896c41898e"
          }
        },
        "64a220b132074282ba4c6bd54a636416": {
          "model_module": "@jupyter-widgets/controls",
          "model_name": "LabelModel",
          "model_module_version": "1.5.0",
          "state": {
            "_dom_classes": [],
            "_model_module": "@jupyter-widgets/controls",
            "_model_module_version": "1.5.0",
            "_model_name": "LabelModel",
            "_view_count": null,
            "_view_module": "@jupyter-widgets/controls",
            "_view_module_version": "1.5.0",
            "_view_name": "LabelView",
            "description": "",
            "description_tooltip": null,
            "layout": "IPY_MODEL_ecfa69b3c27e48cfab491edc44bbb85c",
            "placeholder": "​",
            "style": "IPY_MODEL_454d6e92cfa34ae4800bbb4b433b0026",
            "value": "Name of your midi file:"
          }
        },
        "b70798245d774664b75c2dc1e4fdc9c6": {
          "model_module": "@jupyter-widgets/controls",
          "model_name": "TextareaModel",
          "model_module_version": "1.5.0",
          "state": {
            "_dom_classes": [],
            "_model_module": "@jupyter-widgets/controls",
            "_model_module_version": "1.5.0",
            "_model_name": "TextareaModel",
            "_view_count": null,
            "_view_module": "@jupyter-widgets/controls",
            "_view_module_version": "1.5.0",
            "_view_name": "TextareaView",
            "continuous_update": true,
            "description": "",
            "description_tooltip": null,
            "disabled": false,
            "layout": "IPY_MODEL_0fc52fab7ebc455da47b6d4563984df1",
            "placeholder": "​",
            "rows": null,
            "style": "IPY_MODEL_069390f076c94497b24bf1575b45528b",
            "value": "testing"
          }
        },
        "a99264f1112d45bd9dc5b3896c41898e": {
          "model_module": "@jupyter-widgets/base",
          "model_name": "LayoutModel",
          "model_module_version": "1.2.0",
          "state": {
            "_model_module": "@jupyter-widgets/base",
            "_model_module_version": "1.2.0",
            "_model_name": "LayoutModel",
            "_view_count": null,
            "_view_module": "@jupyter-widgets/base",
            "_view_module_version": "1.2.0",
            "_view_name": "LayoutView",
            "align_content": null,
            "align_items": null,
            "align_self": null,
            "border": null,
            "bottom": null,
            "display": null,
            "flex": null,
            "flex_flow": null,
            "grid_area": null,
            "grid_auto_columns": null,
            "grid_auto_flow": null,
            "grid_auto_rows": null,
            "grid_column": null,
            "grid_gap": null,
            "grid_row": null,
            "grid_template_areas": null,
            "grid_template_columns": null,
            "grid_template_rows": null,
            "height": null,
            "justify_content": null,
            "justify_items": null,
            "left": null,
            "margin": null,
            "max_height": null,
            "max_width": null,
            "min_height": null,
            "min_width": null,
            "object_fit": null,
            "object_position": null,
            "order": null,
            "overflow": null,
            "overflow_x": null,
            "overflow_y": null,
            "padding": null,
            "right": null,
            "top": null,
            "visibility": null,
            "width": null
          }
        },
        "ecfa69b3c27e48cfab491edc44bbb85c": {
          "model_module": "@jupyter-widgets/base",
          "model_name": "LayoutModel",
          "model_module_version": "1.2.0",
          "state": {
            "_model_module": "@jupyter-widgets/base",
            "_model_module_version": "1.2.0",
            "_model_name": "LayoutModel",
            "_view_count": null,
            "_view_module": "@jupyter-widgets/base",
            "_view_module_version": "1.2.0",
            "_view_name": "LayoutView",
            "align_content": null,
            "align_items": null,
            "align_self": null,
            "border": null,
            "bottom": null,
            "display": null,
            "flex": null,
            "flex_flow": null,
            "grid_area": null,
            "grid_auto_columns": null,
            "grid_auto_flow": null,
            "grid_auto_rows": null,
            "grid_column": null,
            "grid_gap": null,
            "grid_row": null,
            "grid_template_areas": null,
            "grid_template_columns": null,
            "grid_template_rows": null,
            "height": null,
            "justify_content": null,
            "justify_items": null,
            "left": null,
            "margin": null,
            "max_height": null,
            "max_width": null,
            "min_height": null,
            "min_width": null,
            "object_fit": null,
            "object_position": null,
            "order": null,
            "overflow": null,
            "overflow_x": null,
            "overflow_y": null,
            "padding": null,
            "right": null,
            "top": null,
            "visibility": null,
            "width": null
          }
        },
        "454d6e92cfa34ae4800bbb4b433b0026": {
          "model_module": "@jupyter-widgets/controls",
          "model_name": "DescriptionStyleModel",
          "model_module_version": "1.5.0",
          "state": {
            "_model_module": "@jupyter-widgets/controls",
            "_model_module_version": "1.5.0",
            "_model_name": "DescriptionStyleModel",
            "_view_count": null,
            "_view_module": "@jupyter-widgets/base",
            "_view_module_version": "1.2.0",
            "_view_name": "StyleView",
            "description_width": ""
          }
        },
        "0fc52fab7ebc455da47b6d4563984df1": {
          "model_module": "@jupyter-widgets/base",
          "model_name": "LayoutModel",
          "model_module_version": "1.2.0",
          "state": {
            "_model_module": "@jupyter-widgets/base",
            "_model_module_version": "1.2.0",
            "_model_name": "LayoutModel",
            "_view_count": null,
            "_view_module": "@jupyter-widgets/base",
            "_view_module_version": "1.2.0",
            "_view_name": "LayoutView",
            "align_content": null,
            "align_items": null,
            "align_self": null,
            "border": "2px solid lightblue",
            "bottom": null,
            "display": null,
            "flex": null,
            "flex_flow": null,
            "grid_area": null,
            "grid_auto_columns": null,
            "grid_auto_flow": null,
            "grid_auto_rows": null,
            "grid_column": null,
            "grid_gap": null,
            "grid_row": null,
            "grid_template_areas": null,
            "grid_template_columns": null,
            "grid_template_rows": null,
            "height": null,
            "justify_content": null,
            "justify_items": null,
            "left": null,
            "margin": null,
            "max_height": null,
            "max_width": null,
            "min_height": null,
            "min_width": null,
            "object_fit": null,
            "object_position": null,
            "order": null,
            "overflow": null,
            "overflow_x": null,
            "overflow_y": null,
            "padding": null,
            "right": null,
            "top": null,
            "visibility": null,
            "width": "300px"
          }
        },
        "069390f076c94497b24bf1575b45528b": {
          "model_module": "@jupyter-widgets/controls",
          "model_name": "DescriptionStyleModel",
          "model_module_version": "1.5.0",
          "state": {
            "_model_module": "@jupyter-widgets/controls",
            "_model_module_version": "1.5.0",
            "_model_name": "DescriptionStyleModel",
            "_view_count": null,
            "_view_module": "@jupyter-widgets/base",
            "_view_module_version": "1.2.0",
            "_view_name": "StyleView",
            "description_width": "initial"
          }
        }
      }
    }
  },
  "cells": [
    {
      "cell_type": "markdown",
      "source": [
        "---\n",
        "## First, we need to \"mount\" the notebook onto our google drive\n",
        "  #### To do so, just run the cell below:\n",
        "\n",
        "> Take care the change the path of the WORK_AREA as it depends on where you put this notebook and subsequent files\n"
      ],
      "metadata": {
        "id": "RSkWn9XXncvz"
      }
    },
    {
      "cell_type": "markdown",
      "source": [
        "\n",
        "\n",
        "---\n"
      ],
      "metadata": {
        "id": "sAwY1SrmZ1k8"
      }
    },
    {
      "cell_type": "code",
      "execution_count": null,
      "metadata": {
        "colab": {
          "base_uri": "https://localhost:8080/"
        },
        "id": "NOUCJAUBnaFL",
        "outputId": "09ba1625-a6d5-48f0-babb-81c7c3881d46"
      },
      "outputs": [
        {
          "output_type": "stream",
          "name": "stdout",
          "text": [
            "Mounted at /gdrive\n"
          ]
        }
      ],
      "source": [
        "import os\n",
        "from google.colab import drive\n",
        "\n",
        "WORK_DRIVE = '/gdrive'\n",
        "# You may need to change this path, it depends on where you put the notebook and files\n",
        "WORK_AREA = WORK_DRIVE + '/MyDrive/Colab Notebooks/EAP2025'\n",
        "\n",
        "drive.mount(WORK_DRIVE)\n",
        "os.chdir(WORK_AREA)"
      ]
    },
    {
      "cell_type": "markdown",
      "source": [
        "---\n",
        "## Now we should get all the libraries and musical definitions by running the cells below:\n",
        "\n",
        "\n"
      ],
      "metadata": {
        "id": "SWI_twDUnrSU"
      }
    },
    {
      "cell_type": "markdown",
      "source": [
        "\n",
        "\n",
        "---\n"
      ],
      "metadata": {
        "id": "A_Ez5azPZz0c"
      }
    },
    {
      "cell_type": "code",
      "source": [
        "!pip install midiutil"
      ],
      "metadata": {
        "colab": {
          "base_uri": "https://localhost:8080/"
        },
        "id": "Ah861VLYn0Ib",
        "outputId": "57b58e7d-1ce3-4192-9063-e5b6e4eaf40f"
      },
      "execution_count": null,
      "outputs": [
        {
          "output_type": "stream",
          "name": "stdout",
          "text": [
            "Collecting midiutil\n",
            "  Downloading MIDIUtil-1.2.1.tar.gz (1.0 MB)\n",
            "\u001b[?25l     \u001b[90m━━━━━━━━━━━━━━━━━━━━━━━━━━━━━━━━━━━━━━━━\u001b[0m \u001b[32m0.0/1.0 MB\u001b[0m \u001b[31m?\u001b[0m eta \u001b[36m-:--:--\u001b[0m\r\u001b[2K     \u001b[91m━━━━━━━━━━━━━━━━━━━━━━━\u001b[0m\u001b[90m╺\u001b[0m\u001b[90m━━━━━━━━━━━━━━━━\u001b[0m \u001b[32m0.6/1.0 MB\u001b[0m \u001b[31m18.0 MB/s\u001b[0m eta \u001b[36m0:00:01\u001b[0m\r\u001b[2K     \u001b[90m━━━━━━━━━━━━━━━━━━━━━━━━━━━━━━━━━━━━━━━━\u001b[0m \u001b[32m1.0/1.0 MB\u001b[0m \u001b[31m19.6 MB/s\u001b[0m eta \u001b[36m0:00:00\u001b[0m\n",
            "\u001b[?25h  Preparing metadata (setup.py) ... \u001b[?25l\u001b[?25hdone\n",
            "Building wheels for collected packages: midiutil\n",
            "  Building wheel for midiutil (setup.py) ... \u001b[?25l\u001b[?25hdone\n",
            "  Created wheel for midiutil: filename=MIDIUtil-1.2.1-py3-none-any.whl size=54569 sha256=43997792ebe86391224a346c248326620511f8162d19b12f65ac0d89ca5dd2ff\n",
            "  Stored in directory: /root/.cache/pip/wheels/6c/42/75/fce10c67f06fe627fad8acd1fd3a004a24e07b0f077761fbbd\n",
            "Successfully built midiutil\n",
            "Installing collected packages: midiutil\n",
            "Successfully installed midiutil-1.2.1\n"
          ]
        }
      ]
    },
    {
      "cell_type": "code",
      "source": [
        "# This file contains all the definitions for the widgets and some constant variables that I had set\n",
        "from music_def import *"
      ],
      "metadata": {
        "id": "EtHkr95hsmr1"
      },
      "execution_count": null,
      "outputs": []
    },
    {
      "cell_type": "markdown",
      "source": [
        "---\n",
        "## First, let's load your data and see how it looks\n",
        "\n",
        "\n",
        "> For the example, we will use the C60 spectrum\n",
        "\n",
        "\n",
        "> Loading file called \"C60plus.csv\" and saving the values in the first column as a list called \"data\", then visualise by plotting it\n",
        "\n"
      ],
      "metadata": {
        "id": "PynhWD9rsoKs"
      }
    },
    {
      "cell_type": "markdown",
      "source": [
        "\n",
        "---\n"
      ],
      "metadata": {
        "id": "mk68VlPPZxR2"
      }
    },
    {
      "cell_type": "code",
      "source": [
        "# Loading Data\n",
        "file = np.loadtxt('C60plus.csv',skiprows=1, delimiter=',')\n",
        "data = file[:,1]\n",
        "\n",
        "# plotting\n",
        "plt.plot(file[:,0],file[:,1])"
      ],
      "metadata": {
        "colab": {
          "base_uri": "https://localhost:8080/",
          "height": 452
        },
        "id": "zWAsOM3csuXu",
        "outputId": "7b44c28d-6317-494f-94a5-d91cfd51e08d"
      },
      "execution_count": null,
      "outputs": [
        {
          "output_type": "execute_result",
          "data": {
            "text/plain": [
              "[<matplotlib.lines.Line2D at 0x7e95e6058d50>]"
            ]
          },
          "metadata": {},
          "execution_count": 6
        },
        {
          "output_type": "display_data",
          "data": {
            "text/plain": [
              "<Figure size 640x480 with 1 Axes>"
            ],
            "image/png": "[encoded data removed]"
          },
          "metadata": {}
        }
      ]
    },
    {
      "cell_type": "markdown",
      "source": [
        "### Do you want to take a closer look at the noise?\n",
        "#### If so, then unhash the 2nd and 3rd line below to manually change the range"
      ],
      "metadata": {
        "id": "ZTDiPiwQYKeG"
      }
    },
    {
      "cell_type": "code",
      "source": [
        "# If so then change the maximum and minimum limit of the y-axis\n",
        "# low = 0.95\n",
        "# high = 1.05\n",
        "\n",
        "# If nothing is included above then it will automatically take the max and min of the data as the range\n",
        "try:\n",
        "    low\n",
        "except NameError:\n",
        "    print(\"Automatically setting min of y as the lower bound\")\n",
        "    low = np.min(data)\n",
        "else:\n",
        "    print(\"You have manually defined the lower Y bound\")\n",
        "\n",
        "try:\n",
        "    high\n",
        "except NameError:\n",
        "    print(\"Automatically setting max of y as the upper bound\")\n",
        "    high = np.amax(data)\n",
        "else:\n",
        "    print(\"You have manually defined the upper Y bound\")\n",
        "\n",
        "\n",
        "print(\"\\n Data to bin will look like this:\")\n",
        "\n",
        "# Plotting with the zoom\n",
        "plt.plot(file[:,0],file[:,1])\n",
        "plt.ylim(low , high)\n",
        "plt.show()\n",
        "\n",
        "print(\"If this is not what you want then you must edit the range and run the cell above again!\")"
      ],
      "metadata": {
        "colab": {
          "base_uri": "https://localhost:8080/",
          "height": 517
        },
        "id": "SGxlXPJgtGVB",
        "outputId": "cdfdd336-ee65-4f08-a50d-31005b68fbb6"
      },
      "execution_count": null,
      "outputs": [
        {
          "output_type": "stream",
          "name": "stdout",
          "text": [
            "You have manually defined the lower Y bound\n",
            "You have manually defined the upper Y bound\n",
            "\n",
            " Data to bin will look like this:\n"
          ]
        },
        {
          "output_type": "display_data",
          "data": {
            "text/plain": [
              "<Figure size 640x480 with 1 Axes>"
            ],
            "image/png": "[encoded data removed]"
          },
          "metadata": {}
        },
        {
          "output_type": "stream",
          "name": "stdout",
          "text": [
            "If this is not what you want then you must edit the range and run the cell above again!\n"
          ]
        }
      ]
    },
    {
      "cell_type": "markdown",
      "source": [
        "---\n",
        "## Now some input from user required below:\n",
        "\n",
        "\n",
        "> Most significant choice is whether you want a melody in major, natural minor, or harmonic minor\n",
        "\n",
        "\n",
        "\n",
        "> Also to give your track a name so you do not overwrite it by accident!\n",
        "\n"
      ],
      "metadata": {
        "id": "Cj6m732sYloV"
      }
    },
    {
      "cell_type": "markdown",
      "source": [
        "\n",
        "---"
      ],
      "metadata": {
        "id": "UXb68o-ZZutY"
      }
    },
    {
      "cell_type": "code",
      "source": [
        "# Run this cell to get the widgets to show\n",
        "display(vert_scale)\n",
        "\n",
        "## Choose a name for your MIDI track\n",
        "display(vert_name)"
      ],
      "metadata": {
        "colab": {
          "base_uri": "https://localhost:8080/",
          "height": 161,
          "referenced_widgets": [
            "75b84b2f67fe45f1a54823c3663a480f",
            "4c79651d8dbe4229badda65ef153a11e",
            "99a173d5bb834982a72a826d0033c9fd",
            "474ad7562dc44a448e79716b7e06254f",
            "5dc8aea0369e41aa971d846a0a05e7ee",
            "8f0717dd07264751a07332fc7148002a",
            "e32a979e44084900bf095ac8e82cffe5",
            "e27f2222b3934d05b6f181e036970d4a",
            "ba3f6c9b02aa43038cf54096bf33191b",
            "64a220b132074282ba4c6bd54a636416",
            "b70798245d774664b75c2dc1e4fdc9c6",
            "a99264f1112d45bd9dc5b3896c41898e",
            "ecfa69b3c27e48cfab491edc44bbb85c",
            "454d6e92cfa34ae4800bbb4b433b0026",
            "0fc52fab7ebc455da47b6d4563984df1",
            "069390f076c94497b24bf1575b45528b"
          ]
        },
        "id": "LJWmBj8OYQn1",
        "outputId": "7b8578be-bcc2-42f1-950e-2131d1b55e6a"
      },
      "execution_count": null,
      "outputs": [
        {
          "output_type": "display_data",
          "data": {
            "text/plain": [
              "VBox(children=(Label(value='What type of scale do you want to map to?'), Dropdown(layout=Layout(border='2px so…"
            ],
            "application/vnd.jupyter.widget-view+json": {
              "version_major": 2,
              "version_minor": 0,
              "model_id": "75b84b2f67fe45f1a54823c3663a480f"
            }
          },
          "metadata": {}
        },
        {
          "output_type": "display_data",
          "data": {
            "text/plain": [
              "VBox(children=(Label(value='Name of your midi file:'), Textarea(value='Track_1', layout=Layout(border='2px sol…"
            ],
            "application/vnd.jupyter.widget-view+json": {
              "version_major": 2,
              "version_minor": 0,
              "model_id": "ba3f6c9b02aa43038cf54096bf33191b"
            }
          },
          "metadata": {}
        }
      ]
    },
    {
      "cell_type": "markdown",
      "source": [
        "---\n",
        "## Before the magic happens, please note that by default:\n",
        "\n",
        "\n",
        "> Duration of notes = 1\n",
        "\n",
        "> Tempo = 120\n",
        "\n",
        "> Time signature = 4/4\n",
        "\n",
        "> Resulting melody length = 32 notes = 8 seconds long\n",
        "\n",
        "If you are happy with your choices and the above selection, go ahead and run the next cell!\n",
        "\n",
        "\n",
        "### To change any of the defaults please feel free to come chat with us!\n",
        "\n"
      ],
      "metadata": {
        "id": "eOcsI03RZEn8"
      }
    },
    {
      "cell_type": "markdown",
      "source": [
        "\n",
        "\n",
        "---"
      ],
      "metadata": {
        "id": "jOK_Ov-VZsH_"
      }
    },
    {
      "cell_type": "code",
      "source": [
        "note_index = notes_to_index[def_note.value]\n",
        "scale_num = scale_index[def_scale.value]\n",
        "scale_clean = all_scales[scale_num]\n",
        "\n",
        "scale = []\n",
        "for ix in scale_clean:\n",
        "    a = ix + (len_oct*def_octave.value) + note_index\n",
        "    scale.append(a)\n",
        "\n",
        "bins = np.linspace(low ,high,len(scale)) # Defining bins based of the max, min, and length of a scale\n",
        "abs_binned = np.digitize(data,bins) # sorting the data into the bins defined above\n",
        "unique_bins = np.unique(abs_binned) # making an array of our unique bins\n",
        "\n",
        "revalue = dict(zip(unique_bins, scale)) # dictionary to map our scale to the binned values of our IR absorption\n",
        "notes = [revalue.get(n, n) for n in abs_binned] # mapping the data values onto the scale\n",
        "\n",
        "#\n",
        "channel  = int(def_channel.value)\n",
        "tempo    = int(def_tempo.value)\n",
        "volume   = int(def_volume.value)\n",
        "duration = 1\n",
        "\n",
        "# Writing a MIDI file based on your choices\n",
        "\n",
        "MyMIDI = MIDIFile(1)  # One track, defaults to format 1 (tempo track is created\n",
        "                      # automatically)\n",
        "MyMIDI.addTempo(track, time, tempo)\n",
        "MyMIDI.addTimeSignature(track, time, def_bpb.value , note_name_dictionary[def_type_beat.value], clocks_per_tick, notes_per_quarter )   #add a time signature, here just 4/4\n",
        "\n",
        "# loop over each time step\n",
        "\n",
        "intervals = int(len(notes)/16)\n",
        "\n",
        "i=0\n",
        "for n in notes[::intervals]:  #loop over each note\n",
        "    MyMIDI.addNote(track, channel, n, time+i, duration, volume)\n",
        "    i=i+1\n",
        "\n",
        "# saving the resulting midi file.\n",
        "\n",
        "with open(str(def_name.value)+\".mid\", \"wb\") as output_file:\n",
        "    MyMIDI.writeFile(output_file)\n",
        "\n",
        "del low, high"
      ],
      "metadata": {
        "id": "LlcrnP4VZEMm"
      },
      "execution_count": null,
      "outputs": []
    },
    {
      "cell_type": "markdown",
      "source": [
        "### If you want another track, then go back to the 3rd coding cell and run everything agian, remembering to change the name of your track if you dont want to overwrite your MIDI file"
      ],
      "metadata": {
        "id": "tTYnJl4UZnKo"
      }
    },
    {
      "cell_type": "markdown",
      "source": [
        "---\n"
      ],
      "metadata": {
        "id": "s4xLAyf-Zofv"
      }
    }
  ]
}