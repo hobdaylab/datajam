{
 "cells": [
  {
   "cell_type": "markdown",
   "metadata": {},
   "source": [
    "#### If you are working on a new environmnet, you might want to run the following cell to make sure that the MIDIUtil library has been installed "
   ]
  },
  {
   "cell_type": "code",
   "execution_count": null,
   "metadata": {},
   "outputs": [],
   "source": [
    "!pip install midiutil"
   ]
  },
  {
   "cell_type": "markdown",
   "metadata": {},
   "source": [
    "#### Import the variables and definitions from the accompanying music_def.py file "
   ]
  },
  {
   "cell_type": "code",
   "execution_count": 18,
   "metadata": {},
   "outputs": [],
   "source": [
    "# This file contains all the definitions for the widgets and some constant variables that I had set\n",
    "\n",
    "from music_def import *"
   ]
  },
  {
   "cell_type": "markdown",
   "metadata": {},
   "source": [
    "***\n",
    "\n",
    "### Define your key, scale, and octave"
   ]
  },
  {
   "cell_type": "code",
   "execution_count": 19,
   "metadata": {},
   "outputs": [
    {
     "data": {
      "application/vnd.jupyter.widget-view+json": {
       "model_id": "3c21bc6966fc4809be1697f7a170b557",
       "version_major": 2,
       "version_minor": 0
      },
      "text/plain": [
       "VBox(children=(Label(value='What key do you want your piece to be in?'), Dropdown(layout=Layout(border_bottom=…"
      ]
     },
     "metadata": {},
     "output_type": "display_data"
    },
    {
     "data": {
      "application/vnd.jupyter.widget-view+json": {
       "model_id": "db46c48e80264c88b626a7891fe29261",
       "version_major": 2,
       "version_minor": 0
      },
      "text/plain": [
       "VBox(children=(Label(value='What scale do you want to map to?'), Dropdown(layout=Layout(border_bottom='2px sol…"
      ]
     },
     "metadata": {},
     "output_type": "display_data"
    },
    {
     "data": {
      "application/vnd.jupyter.widget-view+json": {
       "model_id": "c3ad8b5a870447ee82157a6989a61c46",
       "version_major": 2,
       "version_minor": 0
      },
      "text/plain": [
       "VBox(children=(Label(value='Which octave do you want to assign your notes to? \\n Middle C is in the 4th'), Dro…"
      ]
     },
     "metadata": {},
     "output_type": "display_data"
    }
   ],
   "source": [
    "# First choice with regards to music\n",
    "\n",
    "# Run this cell to get the widgets to show\n",
    "display(vert_note)\n",
    "display(vert_scale)\n",
    "display(vert_octave)"
   ]
  },
  {
   "cell_type": "code",
   "execution_count": 28,
   "metadata": {},
   "outputs": [
    {
     "name": "stdout",
     "output_type": "stream",
     "text": [
      "--------------------------------------------------------------------------------------------------------------------------\n",
      "You have chosen the Key, C which corresponds to the index: \n",
      " 0\n",
      "The chosen scale is a  minor-harmonic which corresponds to the midi indices: \n",
      " (0, 2, 3, 5, 7, 8, 11, 12)\n",
      "The octave that you have chose to map your notes onto is: \n",
      "  4\n",
      "If this is incorrect, please check with the drop down menu above and run this cell again.\n",
      "--------------------------------------------------------------------------------------------------------------------------\n"
     ]
    }
   ],
   "source": [
    "# Processing inputs from cell above\n",
    "\n",
    "note_index = notes_to_index[def_note.value]\n",
    "scale_num = scale_index[def_scale.value]\n",
    "scale_clean = all_scales[scale_num]\n",
    "\n",
    "# Printing outputs to allow user to check whether they are happy with their choices\n",
    "\n",
    "print(\n",
    "    \"--------------------------------------------------------------------------------------------------------------------------\"\n",
    ")\n",
    "\n",
    "print(\n",
    "    \"You have chosen the Key,\",\n",
    "    def_note.value,\n",
    "    \"which corresponds to the index: \\n\",\n",
    "    note_index,\n",
    ")\n",
    "print(\n",
    "    \"The chosen scale is a \",\n",
    "    def_scale.value,\n",
    "    \"which corresponds to the midi indices: \\n\",\n",
    "    scale_clean,\n",
    ")\n",
    "print(\"The octave that you have chose to map your notes onto is: \\n \", def_octave.value)\n",
    "\n",
    "print(\n",
    "    \"If this is incorrect, please check with the drop down menu above and run this cell again.\"\n",
    ")\n",
    "\n",
    "# Mapping chosen scale onto each other\n",
    "scale = []\n",
    "for ix in scale_clean:\n",
    "    a = ix + (len_oct * def_octave.value) + note_index\n",
    "    scale.append(a)\n",
    "\n",
    "print(\n",
    "    \"--------------------------------------------------------------------------------------------------------------------------\"\n",
    ")"
   ]
  },
  {
   "cell_type": "markdown",
   "metadata": {},
   "source": [
    "#### Other data types"
   ]
  },
  {
   "cell_type": "code",
   "execution_count": 36,
   "metadata": {},
   "outputs": [
    {
     "data": {
      "image/png": "[encoded data removed]",
      "text/plain": [
       "<Figure size 640x480 with 2 Axes>"
      ]
     },
     "metadata": {},
     "output_type": "display_data"
    }
   ],
   "source": [
    "# heatmap (?) data\n",
    "import seaborn as sns\n",
    "\n",
    "file = np.loadtxt(\"sample_data/bound_matrix.csv\", delimiter=\" \")\n",
    "data = file\n",
    "\n",
    "# First look at the data. We can visualise this using seaborn.\n",
    "sns.heatmap(data, linewidth=0.5)\n",
    "plt.show()"
   ]
  },
  {
   "cell_type": "code",
   "execution_count": null,
   "metadata": {},
   "outputs": [],
   "source": [
    "# There are different ways to do this - either we can treat each row sequentially and flatten the array:\n",
    "flat_data = np.reshape(data, -1)\n",
    "\n",
    "# and then assign bins as before for the 2D data\n",
    "bins = np.linspace(\n",
    "    min(flat_data), max(flat_data), len(scale)\n",
    ")  # Defining bins based of the max, min, and length of a scale\n",
    "# sorting the data into the bins defined above\n",
    "abs_binned = np.digitize(flat_data, bins)\n",
    "unique_bins = np.unique(abs_binned)  # making an array of our unique bins\n",
    "\n",
    "# split the scale based on how many unique bins there are\n",
    "revalue = dict(\n",
    "    zip(unique_bins, scale[:: int(len(scale) / len(unique_bins))])\n",
    ")  # dictionary to map our scale to the binned values of our IR absorption\n",
    "notes = [\n",
    "    revalue.get(n, n) for n in abs_binned\n",
    "]  # mapping the data values onto the scale"
   ]
  },
  {
   "cell_type": "code",
   "execution_count": null,
   "metadata": {},
   "outputs": [],
   "source": [
    "# alternatively, each row entry gets one track\n",
    "notes_list = []\n",
    "for d in data:\n",
    "\n",
    "    # and then assign bins as before for the 2D data\n",
    "    bins = np.linspace(\n",
    "        min(flat_data), max(flat_data), len(scale)\n",
    "    )  # Defining bins based of the max, min, and length of a scale\n",
    "    # sorting the data into the bins defined above\n",
    "    abs_binned = np.digitize(d, bins)\n",
    "    unique_bins = np.unique(abs_binned)  # making an array of our unique bins\n",
    "\n",
    "    # split the scale based on how many unique bins there are\n",
    "    revalue = dict(\n",
    "        zip(unique_bins, scale[:: int(len(scale) / len(unique_bins))])\n",
    "    )  # dictionary to map our scale to the binned values of our IR absorption\n",
    "    notes = [\n",
    "        revalue.get(n, n) for n in abs_binned\n",
    "    ]  # mapping the data values onto the scale\n",
    "    notes_list.append(notes)\n",
    "\n",
    "num_tracks = len(data)"
   ]
  },
  {
   "cell_type": "code",
   "execution_count": 49,
   "metadata": {},
   "outputs": [
    {
     "data": {
      "text/plain": [
       "2"
      ]
     },
     "execution_count": 49,
     "metadata": {},
     "output_type": "execute_result"
    }
   ],
   "source": [
    "int(len(scale) / len(unique_bins))"
   ]
  },
  {
   "cell_type": "markdown",
   "metadata": {},
   "source": [
    "****\n",
    "\n",
    "### Definine rest of parameters for MIDIUtil to work\n",
    "\n",
    "#### If you are confused on the choices please visit the MIDIUtil Docs, a link to it can be found on the learn page. "
   ]
  },
  {
   "cell_type": "code",
   "execution_count": 24,
   "metadata": {},
   "outputs": [
    {
     "data": {
      "application/vnd.jupyter.widget-view+json": {
       "model_id": "1ce1f47915164f3cadfc78654902f277",
       "version_major": 2,
       "version_minor": 0
      },
      "text/plain": [
       "VBox(children=(Label(value='What is the MIDI channel? \\n (If unknown set as 0)'), IntSlider(value=0, continuou…"
      ]
     },
     "metadata": {},
     "output_type": "display_data"
    },
    {
     "data": {
      "application/vnd.jupyter.widget-view+json": {
       "model_id": "0c379f0c0caa4b2ba8bbe41c7ceecbe7",
       "version_major": 2,
       "version_minor": 0
      },
      "text/plain": [
       "VBox(children=(Label(value='What is the tempo for the track?'), IntSlider(value=120, continuous_update=False, …"
      ]
     },
     "metadata": {},
     "output_type": "display_data"
    },
    {
     "data": {
      "application/vnd.jupyter.widget-view+json": {
       "model_id": "b12ad67eb65e42248c1975ebebe04b7f",
       "version_major": 2,
       "version_minor": 0
      },
      "text/plain": [
       "VBox(children=(Label(value='Volume of track'), IntSlider(value=100, continuous_update=False, layout=Layout(bor…"
      ]
     },
     "metadata": {},
     "output_type": "display_data"
    },
    {
     "name": "stdout",
     "output_type": "stream",
     "text": [
      "About time signature\n"
     ]
    },
    {
     "data": {
      "application/vnd.jupyter.widget-view+json": {
       "model_id": "6ae87bd04c15476d99dc7d1405cb12a0",
       "version_major": 2,
       "version_minor": 0
      },
      "text/plain": [
       "VBox(children=(Label(value='What is the number of beats per bar'), Dropdown(layout=Layout(border_bottom='2px s…"
      ]
     },
     "metadata": {},
     "output_type": "display_data"
    },
    {
     "data": {
      "application/vnd.jupyter.widget-view+json": {
       "model_id": "b935c39243b243f59699963d5256434d",
       "version_major": 2,
       "version_minor": 0
      },
      "text/plain": [
       "VBox(children=(Label(value='What type of note does each bar correspond to?'), Dropdown(layout=Layout(border_bo…"
      ]
     },
     "metadata": {},
     "output_type": "display_data"
    }
   ],
   "source": [
    "# Displaying the pre-defined widgets to help with musical choice for writing your MIDI file\n",
    "\n",
    "display(vert_channel)\n",
    "display(vert_tempo)\n",
    "display(vert_volume)\n",
    "print(\"About time signature\")\n",
    "display(vert_bpb)\n",
    "display(vert_type_beat)"
   ]
  },
  {
   "cell_type": "code",
   "execution_count": 26,
   "metadata": {},
   "outputs": [
    {
     "data": {
      "application/vnd.jupyter.widget-view+json": {
       "model_id": "626585f99a8b4b1387862f34ecaa3a57",
       "version_major": 2,
       "version_minor": 0
      },
      "text/plain": [
       "VBox(children=(Label(value='Name of your midi file:'), Textarea(value='Track_1', layout=Layout(border_bottom='…"
      ]
     },
     "metadata": {},
     "output_type": "display_data"
    },
    {
     "data": {
      "application/vnd.jupyter.widget-view+json": {
       "model_id": "2f9559ef36964c0c9655ea7eac777309",
       "version_major": 2,
       "version_minor": 0
      },
      "text/plain": [
       "VBox(children=(Label(value='How often to take a note from the data'), IntSlider(value=4, continuous_update=Fal…"
      ]
     },
     "metadata": {},
     "output_type": "display_data"
    }
   ],
   "source": [
    "# Set up some variables for the MIDIUtil program to work\n",
    "\n",
    "# This takes your inputs from above and converts it into a format that the MIDIUtil library can read\n",
    "\n",
    "channel = int(def_channel.value)\n",
    "tempo = int(def_tempo.value)\n",
    "volume = int(def_volume.value)\n",
    "\n",
    "# Final inputs for wirting the MIDI file\n",
    "\n",
    "display(vert_name)\n",
    "display(vert_int)"
   ]
  },
  {
   "cell_type": "markdown",
   "metadata": {},
   "source": [
    "We can write the data into a new track for each row, so it will appear as different tracks in the music program, or alternatively we can write them all into one track with multiple notes."
   ]
  },
  {
   "cell_type": "markdown",
   "metadata": {},
   "source": [
    "Different tracks:"
   ]
  },
  {
   "cell_type": "code",
   "execution_count": null,
   "metadata": {},
   "outputs": [],
   "source": [
    "# Writing a MIDI for seperate tracks\n",
    "\n",
    "MyMIDI = MIDIFile(numTracks=num_tracks)\n",
    "\n",
    "for track, notes in zip(range(0, num_tracks, 1), notes_list):\n",
    "    MyMIDI.addTempo(track, time, tempo)\n",
    "    MyMIDI.addTimeSignature(\n",
    "        track,\n",
    "        time,\n",
    "        def_bpb.value,\n",
    "        note_name_dictionary[def_type_beat.value],\n",
    "        clocks_per_tick,\n",
    "        notes_per_quarter,\n",
    "    )  # add a time signature, here just 4/4\n",
    "\n",
    "    # loop over each time step\n",
    "\n",
    "    i = 0\n",
    "    for n in notes[::4]:  # loop over each note\n",
    "        MyMIDI.addNote(track, channel, n, time + i, duration, volume)\n",
    "        i = i + 1\n",
    "\n",
    "    # saving the resulting midi file.\n",
    "\n",
    "with open(str(def_name.value) + \".mid\", \"wb\") as output_file:\n",
    "    MyMIDI.writeFile(output_file)"
   ]
  },
  {
   "cell_type": "markdown",
   "metadata": {},
   "source": [
    "Same track:"
   ]
  },
  {
   "cell_type": "code",
   "execution_count": 31,
   "metadata": {},
   "outputs": [],
   "source": [
    "# Writing a MIDI file with all the different notes in one shared track\n",
    "\n",
    "# One track, defaults to format 1 (tempo track is created automatically)\n",
    "MyMIDI = MIDIFile(numTracks=1)\n",
    "\n",
    "MyMIDI.addTempo(track, time, tempo)\n",
    "# add a time signature, here just 4/4\n",
    "MyMIDI.addTimeSignature(\n",
    "    track,\n",
    "    time,\n",
    "    def_bpb.value,\n",
    "    note_name_dictionary[def_type_beat.value],\n",
    "    clocks_per_tick,\n",
    "    notes_per_quarter,\n",
    ")\n",
    "\n",
    "# loop over each of the notes in the noteslist\n",
    "# loop over each time step\n",
    "for notes in notes_list:\n",
    "    i = 0\n",
    "    for n in notes[::1]:  # loop over each note\n",
    "        MyMIDI.addNote(track, channel, n, time + i, duration, volume)\n",
    "        i = i + 1\n",
    "\n",
    "    # saving the resulting midi file.\n",
    "\n",
    "with open(str(def_name.value) + \".mid\", \"wb\") as output_file:\n",
    "    MyMIDI.writeFile(output_file)"
   ]
  },
  {
   "cell_type": "code",
   "execution_count": null,
   "metadata": {},
   "outputs": [],
   "source": []
  }
 ],
 "metadata": {
  "kernelspec": {
   "display_name": "datajam",
   "language": "python",
   "name": "python3"
  },
  "language_info": {
   "codemirror_mode": {
    "name": "ipython",
    "version": 3
   },
   "file_extension": ".py",
   "mimetype": "text/x-python",
   "name": "python",
   "nbconvert_exporter": "python",
   "pygments_lexer": "ipython3",
   "version": "3.11.10"
  }
 },
 "nbformat": 4,
 "nbformat_minor": 2
}
