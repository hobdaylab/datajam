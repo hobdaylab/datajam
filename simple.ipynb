{
 "cells": [
  {
   "cell_type": "markdown",
   "metadata": {},
   "source": [
    "#### If you are working on a new environmnet, you might want to run the following cell to make sure that the MIDIUtil library has been installed "
   ]
  },
  {
   "cell_type": "code",
   "execution_count": null,
   "metadata": {},
   "outputs": [],
   "source": [
    "!pip install midiutil"
   ]
  },
  {
   "cell_type": "markdown",
   "metadata": {},
   "source": [
    "#### Import the variables and definitions from the accompanying music_def.py file "
   ]
  },
  {
   "cell_type": "code",
   "execution_count": null,
   "metadata": {},
   "outputs": [],
   "source": [
    "# This file contains all the definitions for the widgets and some constant variables that I had set\n",
    "\n",
    "from music_def import *"
   ]
  },
  {
   "cell_type": "markdown",
   "metadata": {},
   "source": [
    "***\n",
    "\n",
    "### Define your key, scale, and octave"
   ]
  },
  {
   "cell_type": "code",
   "execution_count": null,
   "metadata": {},
   "outputs": [],
   "source": [
    "# First choice with regards to music\n",
    "\n",
    "# Run this cell to get the widgets to show\n",
    "display(vert_note)\n",
    "display(vert_scale)\n",
    "display(vert_octave)"
   ]
  },
  {
   "cell_type": "code",
   "execution_count": null,
   "metadata": {},
   "outputs": [],
   "source": [
    "# Processing inputs from cell above\n",
    "\n",
    "note_index = notes_to_index[def_note.value]\n",
    "scale_num = scale_index[def_scale.value]\n",
    "scale_clean = all_scales[scale_num]\n",
    "\n",
    "# Printing outputs to allow user to check whether they are happy with their choices\n",
    "\n",
    "print(\n",
    "    \"--------------------------------------------------------------------------------------------------------------------------\"\n",
    ")\n",
    "\n",
    "print(\n",
    "    \"You have chosen the Key,\",\n",
    "    def_note.value,\n",
    "    \"which corresponds to the index: \\n\",\n",
    "    note_index,\n",
    ")\n",
    "print(\n",
    "    \"The chosen scale is a \",\n",
    "    def_scale.value,\n",
    "    \"which corresponds to the midi indices: \\n\",\n",
    "    scale_clean,\n",
    ")\n",
    "print(\"The octave that you have chose to map your notes onto is: \\n \", def_octave.value)\n",
    "\n",
    "print(\n",
    "    \"If this is incorrect, please check with the drop down menu above and run this cell again.\"\n",
    ")\n",
    "\n",
    "# Mapping chosen scale onto each other\n",
    "scale = []\n",
    "for ix in scale_clean:\n",
    "    a = ix + (len_oct * def_octave.value) + note_index\n",
    "    scale.append(a)\n",
    "\n",
    "print(\n",
    "    \"--------------------------------------------------------------------------------------------------------------------------\"\n",
    ")"
   ]
  },
  {
   "cell_type": "markdown",
   "metadata": {},
   "source": [
    "***\n",
    "\n",
    "### Looking at datafile\n",
    "\n",
    "##### The variable \"file\" is for the whole data file\n",
    "##### The variable \"data\" is used for the part that we want to convert to music "
   ]
  },
  {
   "cell_type": "code",
   "execution_count": null,
   "metadata": {},
   "outputs": [],
   "source": [
    "# For now we can take the noisy C60 IR as the guinea pig again\n",
    "# This part will differ depending on your data\n",
    "\n",
    "# Loading file called \"C60plus.csv\" and saving the values in the first column as a list called \"data \"\n",
    "\n",
    "file = np.loadtxt(\"sample_data/C60plus.csv\", skiprows=1, delimiter=\",\")\n",
    "data = file[:, 1]\n",
    "\n",
    "# First look at the data by plotting the first column against the second\n",
    "plt.plot(file[:, 0], file[:, 1])"
   ]
  },
  {
   "cell_type": "markdown",
   "metadata": {},
   "source": [
    "### If I want to zoom in or out?\n",
    "##### Note: the more you zoom the more features your resulting sound will have depending on the noise of your data"
   ]
  },
  {
   "cell_type": "code",
   "execution_count": null,
   "metadata": {},
   "outputs": [],
   "source": [
    "# Selecting Data range\n",
    "# Zoom widget, this cannot be predefined as it must be redefined after data gets assigned to your data\n",
    "zoom_range = widgets.FloatRangeSlider(\n",
    "    min=np.min(data),\n",
    "    max=np.max(data),\n",
    "    value=[np.min(data), np.max(data)],\n",
    "    step=0.01,\n",
    "    description=\"Zoom Range:\",\n",
    "    disabled=False,\n",
    "    continuous_update=False,\n",
    "    orientation=\"horizontal\",\n",
    "    readout=True,\n",
    "    readout_format=\".2f\",\n",
    ")\n",
    "display(zoom_range)"
   ]
  },
  {
   "cell_type": "markdown",
   "metadata": {},
   "source": [
    "#### Use the zoom widget in the cell above to chose your range and then run the cell below to visualise the data once the zoom has been applied \n",
    "#### You need to re-run the cell below everytime you change the range above! "
   ]
  },
  {
   "cell_type": "code",
   "execution_count": null,
   "metadata": {},
   "outputs": [],
   "source": [
    "# Look at data again with zoomed values on y axis\n",
    "\n",
    "# Assigning the min and max based on the widget value above\n",
    "\n",
    "low = zoom_range.value[0]\n",
    "high = zoom_range.value[1]\n",
    "\n",
    "# Or if you wish to manually define the low and high points\n",
    "# low =\n",
    "# high =\n",
    "\n",
    "# Plotting with the zoom\n",
    "plt.plot(file[:, 0], file[:, 1])\n",
    "plt.ylim(low, high)\n",
    "plt.show()\n",
    "\n",
    "# Once you are happy with the range, we bin the data to match our chosen scale\n",
    "\n",
    "bins = np.linspace(\n",
    "    low, high, len(scale)\n",
    ")  # Defining bins based of the max, min, and length of a scale\n",
    "abs_binned = np.digitize(data, bins)  # sorting the data into the bins defined above\n",
    "unique_bins = np.unique(abs_binned)  # making an array of our unique bins\n",
    "\n",
    "revalue = dict(\n",
    "    zip(unique_bins, scale)\n",
    ")  # dictionary to map our scale to the binned values of our IR absorption\n",
    "\n",
    "## ALTERNATIVE\n",
    "# # split the scale based on how many unique bins there are\n",
    "# revalue = dict(zip(unique_bins, scale[::int(len(scale)/len(unique_bins))]))\n",
    "\n",
    "notes = [\n",
    "    revalue.get(n, n) for n in abs_binned\n",
    "]  # mapping the data values onto the scale"
   ]
  },
  {
   "cell_type": "markdown",
   "metadata": {},
   "source": [
    "****\n",
    "\n",
    "### Definine rest of parameters for MIDIUtil to work\n",
    "\n",
    "#### If you are confused on the choices please visit the MIDIUtil Docs, a link to it can be found on the learn page. "
   ]
  },
  {
   "cell_type": "code",
   "execution_count": null,
   "metadata": {},
   "outputs": [],
   "source": [
    "# Displaying the pre-defined widgets to help with musical choice for writing your MIDI file\n",
    "\n",
    "display(vert_channel)\n",
    "display(vert_tempo)\n",
    "display(vert_volume)\n",
    "print(\"About time signature\")\n",
    "display(vert_bpb)\n",
    "display(vert_type_beat)"
   ]
  },
  {
   "cell_type": "code",
   "execution_count": null,
   "metadata": {},
   "outputs": [],
   "source": [
    "# Set up some variables for the MIDIUtil program to work\n",
    "\n",
    "# This takes your inputs from above and converts it into a format that the MIDIUtil library can read\n",
    "\n",
    "channel = int(def_channel.value)\n",
    "tempo = int(def_tempo.value)\n",
    "volume = int(def_volume.value)\n",
    "\n",
    "# Final inputs for wirting the MIDI file\n",
    "\n",
    "display(vert_name)\n",
    "display(vert_int)"
   ]
  },
  {
   "cell_type": "code",
   "execution_count": null,
   "metadata": {},
   "outputs": [],
   "source": [
    "# Writing a MIDI file based on your choices\n",
    "\n",
    "MyMIDI = MIDIFile(1)  # One track, defaults to format 1 (tempo track is created\n",
    "# automatically)\n",
    "MyMIDI.addTempo(track, time, tempo)\n",
    "MyMIDI.addTimeSignature(\n",
    "    track,\n",
    "    time,\n",
    "    def_bpb.value,\n",
    "    note_name_dictionary[def_type_beat.value],\n",
    "    clocks_per_tick,\n",
    "    notes_per_quarter,\n",
    ")  # add a time signature, here just 4/4\n",
    "\n",
    "# loop over each time step\n",
    "\n",
    "i = 0\n",
    "for n in notes[::4]:  # loop over each note\n",
    "    MyMIDI.addNote(track, channel, n, time + i, duration, volume)\n",
    "    i = i + 1\n",
    "\n",
    "# saving the resulting midi file.\n",
    "\n",
    "with open(str(def_name.value) + \".mid\", \"wb\") as output_file:\n",
    "    MyMIDI.writeFile(output_file)"
   ]
  }
 ],
 "metadata": {
  "kernelspec": {
   "display_name": "datajam",
   "language": "python",
   "name": "python3"
  },
  "language_info": {
   "codemirror_mode": {
    "name": "ipython",
    "version": 3
   },
   "file_extension": ".py",
   "mimetype": "text/x-python",
   "name": "python",
   "nbconvert_exporter": "python",
   "pygments_lexer": "ipython3",
   "version": "3.11.10"
  }
 },
 "nbformat": 4,
 "nbformat_minor": 2
}
